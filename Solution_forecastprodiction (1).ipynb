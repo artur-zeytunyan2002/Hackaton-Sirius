{
 "cells": [
  {
   "cell_type": "code",
   "execution_count": 412,
   "id": "458d636a",
   "metadata": {},
   "outputs": [],
   "source": [
    "# Install and import libraries"
   ]
  },
  {
   "cell_type": "code",
   "execution_count": 564,
   "id": "d2968c43",
   "metadata": {},
   "outputs": [
    {
     "name": "stdout",
     "output_type": "stream",
     "text": [
      "Requirement already satisfied: lightgbm in c:\\users\\user\\anaconda3\\lib\\site-packages (3.3.5)\n",
      "Requirement already satisfied: scikit-learn!=0.22.0 in c:\\users\\user\\anaconda3\\lib\\site-packages (from lightgbm) (1.0.2)\n",
      "Requirement already satisfied: wheel in c:\\users\\user\\anaconda3\\lib\\site-packages (from lightgbm) (0.37.1)\n",
      "Requirement already satisfied: scipy in c:\\users\\user\\anaconda3\\lib\\site-packages (from lightgbm) (1.9.1)\n",
      "Requirement already satisfied: numpy in c:\\users\\user\\anaconda3\\lib\\site-packages (from lightgbm) (1.21.5)\n",
      "Requirement already satisfied: joblib>=0.11 in c:\\users\\user\\anaconda3\\lib\\site-packages (from scikit-learn!=0.22.0->lightgbm) (1.1.0)\n",
      "Requirement already satisfied: threadpoolctl>=2.0.0 in c:\\users\\user\\anaconda3\\lib\\site-packages (from scikit-learn!=0.22.0->lightgbm) (2.2.0)\n"
     ]
    }
   ],
   "source": [
    "!pip install lightgbm"
   ]
  },
  {
   "cell_type": "code",
   "execution_count": 566,
   "id": "ec9a8313",
   "metadata": {},
   "outputs": [],
   "source": [
    "import pandas as pd\n",
    "import numpy as np\n",
    "import seaborn as sns\n",
    "import matplotlib.pyplot as plt\n",
    "import os\n",
    "\n",
    "\n",
    "from pathlib import Path\n",
    "from sklearn.metrics import r2_score, mean_squared_error\n",
    "from sklearn import model_selection\n",
    "from lightgbm import LGBMRegressor"
   ]
  },
  {
   "cell_type": "code",
   "execution_count": 541,
   "id": "b22e7e4d",
   "metadata": {},
   "outputs": [],
   "source": [
    "#Read the Dataset"
   ]
  },
  {
   "cell_type": "code",
   "execution_count": 567,
   "id": "bf346dc7",
   "metadata": {},
   "outputs": [
    {
     "data": {
      "text/html": [
       "<div>\n",
       "<style scoped>\n",
       "    .dataframe tbody tr th:only-of-type {\n",
       "        vertical-align: middle;\n",
       "    }\n",
       "\n",
       "    .dataframe tbody tr th {\n",
       "        vertical-align: top;\n",
       "    }\n",
       "\n",
       "    .dataframe thead th {\n",
       "        text-align: right;\n",
       "    }\n",
       "</style>\n",
       "<table border=\"1\" class=\"dataframe\">\n",
       "  <thead>\n",
       "    <tr style=\"text-align: right;\">\n",
       "      <th></th>\n",
       "      <th>datetime</th>\n",
       "      <th>Номер скважины</th>\n",
       "      <th>Дебит нефти</th>\n",
       "      <th>Давление забойное</th>\n",
       "      <th>x</th>\n",
       "      <th>y</th>\n",
       "      <th>Объем жидкости</th>\n",
       "      <th>Объем нефти</th>\n",
       "      <th>Активная мощность (ТМ)</th>\n",
       "      <th>Время работы (ТМ)</th>\n",
       "      <th>Газовый фактор рабочий (ТМ)</th>\n",
       "      <th>Давление буферное</th>\n",
       "      <th>Давление забойное от Hд</th>\n",
       "      <th>Давление забойное от Pпр</th>\n",
       "      <th>Давление линейное (ТМ)</th>\n",
       "      <th>Давление на входе ЭЦН (ТМ)</th>\n",
       "      <th>Дебит газа (ТМ)</th>\n",
       "      <th>Дебит газа попутного</th>\n",
       "      <th>Дебит жидкости (ТМ)</th>\n",
       "      <th>Коэффициент мощности (ТМ)</th>\n",
       "    </tr>\n",
       "  </thead>\n",
       "  <tbody>\n",
       "    <tr>\n",
       "      <th>0</th>\n",
       "      <td>1990-08-01</td>\n",
       "      <td>0</td>\n",
       "      <td>19.94</td>\n",
       "      <td>NaN</td>\n",
       "      <td>18670.86</td>\n",
       "      <td>5714.86</td>\n",
       "      <td>NaN</td>\n",
       "      <td>NaN</td>\n",
       "      <td>NaN</td>\n",
       "      <td>NaN</td>\n",
       "      <td>NaN</td>\n",
       "      <td>NaN</td>\n",
       "      <td>NaN</td>\n",
       "      <td>NaN</td>\n",
       "      <td>NaN</td>\n",
       "      <td>NaN</td>\n",
       "      <td>NaN</td>\n",
       "      <td>NaN</td>\n",
       "      <td>NaN</td>\n",
       "      <td>NaN</td>\n",
       "    </tr>\n",
       "    <tr>\n",
       "      <th>1</th>\n",
       "      <td>1990-08-02</td>\n",
       "      <td>0</td>\n",
       "      <td>19.94</td>\n",
       "      <td>39.06</td>\n",
       "      <td>18670.86</td>\n",
       "      <td>5714.86</td>\n",
       "      <td>NaN</td>\n",
       "      <td>NaN</td>\n",
       "      <td>50.85</td>\n",
       "      <td>9.60</td>\n",
       "      <td>NaN</td>\n",
       "      <td>NaN</td>\n",
       "      <td>33.91</td>\n",
       "      <td>39.06</td>\n",
       "      <td>1.89</td>\n",
       "      <td>30.29</td>\n",
       "      <td>3843.75</td>\n",
       "      <td>24.25</td>\n",
       "      <td>24.25</td>\n",
       "      <td>98.53</td>\n",
       "    </tr>\n",
       "    <tr>\n",
       "      <th>2</th>\n",
       "      <td>1990-08-03</td>\n",
       "      <td>0</td>\n",
       "      <td>21.17</td>\n",
       "      <td>39.06</td>\n",
       "      <td>18670.86</td>\n",
       "      <td>5714.86</td>\n",
       "      <td>NaN</td>\n",
       "      <td>NaN</td>\n",
       "      <td>52.35</td>\n",
       "      <td>NaN</td>\n",
       "      <td>NaN</td>\n",
       "      <td>NaN</td>\n",
       "      <td>33.81</td>\n",
       "      <td>39.06</td>\n",
       "      <td>1.89</td>\n",
       "      <td>30.26</td>\n",
       "      <td>3900.95</td>\n",
       "      <td>25.75</td>\n",
       "      <td>25.83</td>\n",
       "      <td>99.14</td>\n",
       "    </tr>\n",
       "    <tr>\n",
       "      <th>3</th>\n",
       "      <td>1990-08-04</td>\n",
       "      <td>0</td>\n",
       "      <td>22.53</td>\n",
       "      <td>38.97</td>\n",
       "      <td>18670.86</td>\n",
       "      <td>5714.86</td>\n",
       "      <td>NaN</td>\n",
       "      <td>NaN</td>\n",
       "      <td>51.24</td>\n",
       "      <td>9.60</td>\n",
       "      <td>NaN</td>\n",
       "      <td>NaN</td>\n",
       "      <td>33.70</td>\n",
       "      <td>38.97</td>\n",
       "      <td>1.88</td>\n",
       "      <td>30.21</td>\n",
       "      <td>3874.51</td>\n",
       "      <td>27.40</td>\n",
       "      <td>27.93</td>\n",
       "      <td>98.74</td>\n",
       "    </tr>\n",
       "    <tr>\n",
       "      <th>4</th>\n",
       "      <td>1990-08-05</td>\n",
       "      <td>0</td>\n",
       "      <td>22.53</td>\n",
       "      <td>38.77</td>\n",
       "      <td>18670.86</td>\n",
       "      <td>5714.86</td>\n",
       "      <td>NaN</td>\n",
       "      <td>NaN</td>\n",
       "      <td>50.91</td>\n",
       "      <td>9.56</td>\n",
       "      <td>NaN</td>\n",
       "      <td>NaN</td>\n",
       "      <td>33.70</td>\n",
       "      <td>38.77</td>\n",
       "      <td>1.87</td>\n",
       "      <td>30.11</td>\n",
       "      <td>3853.70</td>\n",
       "      <td>27.40</td>\n",
       "      <td>27.40</td>\n",
       "      <td>98.42</td>\n",
       "    </tr>\n",
       "  </tbody>\n",
       "</table>\n",
       "</div>"
      ],
      "text/plain": [
       "     datetime  Номер скважины  Дебит нефти  Давление забойное        x  \\\n",
       "0  1990-08-01               0        19.94                NaN 18670.86   \n",
       "1  1990-08-02               0        19.94              39.06 18670.86   \n",
       "2  1990-08-03               0        21.17              39.06 18670.86   \n",
       "3  1990-08-04               0        22.53              38.97 18670.86   \n",
       "4  1990-08-05               0        22.53              38.77 18670.86   \n",
       "\n",
       "        y  Объем жидкости  Объем нефти  Активная мощность (ТМ)  \\\n",
       "0 5714.86             NaN          NaN                     NaN   \n",
       "1 5714.86             NaN          NaN                   50.85   \n",
       "2 5714.86             NaN          NaN                   52.35   \n",
       "3 5714.86             NaN          NaN                   51.24   \n",
       "4 5714.86             NaN          NaN                   50.91   \n",
       "\n",
       "   Время работы (ТМ)  Газовый фактор рабочий (ТМ)  Давление буферное  \\\n",
       "0                NaN                          NaN                NaN   \n",
       "1               9.60                          NaN                NaN   \n",
       "2                NaN                          NaN                NaN   \n",
       "3               9.60                          NaN                NaN   \n",
       "4               9.56                          NaN                NaN   \n",
       "\n",
       "   Давление забойное от Hд  Давление забойное от Pпр  Давление линейное (ТМ)  \\\n",
       "0                      NaN                       NaN                     NaN   \n",
       "1                    33.91                     39.06                    1.89   \n",
       "2                    33.81                     39.06                    1.89   \n",
       "3                    33.70                     38.97                    1.88   \n",
       "4                    33.70                     38.77                    1.87   \n",
       "\n",
       "   Давление на входе ЭЦН (ТМ)  Дебит газа (ТМ)  Дебит газа попутного  \\\n",
       "0                         NaN              NaN                   NaN   \n",
       "1                       30.29          3843.75                 24.25   \n",
       "2                       30.26          3900.95                 25.75   \n",
       "3                       30.21          3874.51                 27.40   \n",
       "4                       30.11          3853.70                 27.40   \n",
       "\n",
       "   Дебит жидкости (ТМ)  Коэффициент мощности (ТМ)  \n",
       "0                  NaN                        NaN  \n",
       "1                24.25                      98.53  \n",
       "2                25.83                      99.14  \n",
       "3                27.93                      98.74  \n",
       "4                27.40                      98.42  "
      ]
     },
     "execution_count": 567,
     "metadata": {},
     "output_type": "execute_result"
    }
   ],
   "source": [
    "train_path = Path().cwd().parent / 'User'/'Documents'/'Sirius'/'data' / 'train.csv'\n",
    "train_df = pd.read_csv(train_path)\n",
    "pd.set_option('display.float_format', lambda x: '%.2f' % x)\n",
    "train_df.head()"
   ]
  },
  {
   "cell_type": "code",
   "execution_count": 568,
   "id": "97903fcc",
   "metadata": {},
   "outputs": [
    {
     "name": "stdout",
     "output_type": "stream",
     "text": [
      "<class 'pandas.core.frame.DataFrame'>\n",
      "RangeIndex: 67136 entries, 0 to 67135\n",
      "Data columns (total 20 columns):\n",
      " #   Column                       Non-Null Count  Dtype  \n",
      "---  ------                       --------------  -----  \n",
      " 0   datetime                     67136 non-null  object \n",
      " 1   Номер скважины               67136 non-null  int64  \n",
      " 2   Дебит нефти                  67136 non-null  float64\n",
      " 3   Давление забойное            64756 non-null  float64\n",
      " 4   x                            67136 non-null  float64\n",
      " 5   y                            67136 non-null  float64\n",
      " 6   Объем жидкости               3465 non-null   float64\n",
      " 7   Объем нефти                  3465 non-null   float64\n",
      " 8   Активная мощность (ТМ)       62412 non-null  float64\n",
      " 9   Время работы (ТМ)            63475 non-null  float64\n",
      " 10  Газовый фактор рабочий (ТМ)  25230 non-null  float64\n",
      " 11  Давление буферное            10208 non-null  float64\n",
      " 12  Давление забойное от Hд      65710 non-null  float64\n",
      " 13  Давление забойное от Pпр     42297 non-null  float64\n",
      " 14  Давление линейное (ТМ)       66796 non-null  float64\n",
      " 15  Давление на входе ЭЦН (ТМ)   58080 non-null  float64\n",
      " 16  Дебит газа (ТМ)              33131 non-null  float64\n",
      " 17  Дебит газа попутного         51369 non-null  float64\n",
      " 18  Дебит жидкости (ТМ)          59207 non-null  float64\n",
      " 19  Коэффициент мощности (ТМ)    64150 non-null  float64\n",
      "dtypes: float64(18), int64(1), object(1)\n",
      "memory usage: 10.2+ MB\n"
     ]
    }
   ],
   "source": [
    "train_df.info()"
   ]
  },
  {
   "cell_type": "code",
   "execution_count": 569,
   "id": "5ad59788",
   "metadata": {},
   "outputs": [],
   "source": [
    "#Build the Model (Split the dataset)"
   ]
  },
  {
   "cell_type": "code",
   "execution_count": 570,
   "id": "d7c32193",
   "metadata": {},
   "outputs": [
    {
     "name": "stderr",
     "output_type": "stream",
     "text": [
      "C:\\Users\\User\\AppData\\Local\\Temp\\ipykernel_25452\\4039835906.py:4: FutureWarning: Dropping of nuisance columns in DataFrame reductions (with 'numeric_only=None') is deprecated; in a future version this will raise TypeError.  Select only valid columns before calling the reduction.\n",
      "  train_df.loc[train_df['Номер скважины'] == i] = train_df.loc[train_df['Номер скважины'] == i].fillna(train_df.loc[train_df['Номер скважины'] == i].mean())\n"
     ]
    }
   ],
   "source": [
    "#fill nan based on well numbers via average values\n",
    "well_numbers = list(sorted(set(train_df['Номер скважины'])))\n",
    "for i in well_numbers:\n",
    "    train_df.loc[train_df['Номер скважины'] == i] = train_df.loc[train_df['Номер скважины'] == i].fillna(train_df.loc[train_df['Номер скважины'] == i].mean())"
   ]
  },
  {
   "cell_type": "code",
   "execution_count": 571,
   "id": "d3dc2fc7",
   "metadata": {},
   "outputs": [],
   "source": [
    "y_train, y_test = [train_df[train_df['Номер скважины'] == i]['Дебит нефти'].iloc[-180:-90] for i in well_numbers], [train_df[train_df['Номер скважины'] == i]['Дебит нефти'].iloc[-90:] for i in well_numbers]"
   ]
  },
  {
   "cell_type": "code",
   "execution_count": 572,
   "id": "40b5061d",
   "metadata": {},
   "outputs": [],
   "source": [
    "# Model setup and train predictions"
   ]
  },
  {
   "cell_type": "code",
   "execution_count": 573,
   "id": "32a6d0e5",
   "metadata": {},
   "outputs": [],
   "source": [
    "results = []\n",
    "for i in range(int(len(y_test))):\n",
    "    model = LGBMRegressor()\n",
    "    model.fit(np.array(y_train[i]).reshape(-1, 1), np.array(y_test[i]).reshape(-1, 1).ravel())\n",
    "    results.append(model.predict(np.array(y_train[i]).reshape(-1, 1)))"
   ]
  },
  {
   "cell_type": "code",
   "execution_count": 574,
   "id": "ade2cf50",
   "metadata": {},
   "outputs": [],
   "source": [
    "#Train prediction"
   ]
  },
  {
   "cell_type": "code",
   "execution_count": 575,
   "id": "38125152",
   "metadata": {},
   "outputs": [],
   "source": [
    "def result_plot(y_pred, y_real, n_points=90):\n",
    "    RMSE, R2 = [], []\n",
    "    \n",
    "    RMSE.append(np.sqrt(mean_squared_error(y_real, y_pred)))\n",
    "    R2.append(r2_score(y_real, y_pred))\n",
    "    \n",
    "    return RMSE[0], R2[0]"
   ]
  },
  {
   "cell_type": "code",
   "execution_count": 576,
   "id": "93f528f1",
   "metadata": {},
   "outputs": [
    {
     "name": "stdout",
     "output_type": "stream",
     "text": [
      "Train RMSE: 1.4313829906029942\n",
      "Train R2: 0.27551141479972774\n"
     ]
    }
   ],
   "source": [
    "RMSE_list = []\n",
    "R2_list = []\n",
    "for i in range(len(y_test)):\n",
    "    temp = result_plot(results[50], y_test[50])\n",
    "    RMSE_list.append(temp[0])\n",
    "    R2_list.append(temp[-1])\n",
    "print(f'Train RMSE: {np.mean(RMSE_list)}')\n",
    "print(f'Train R2: {np.mean(R2_list)}')"
   ]
  },
  {
   "cell_type": "code",
   "execution_count": 577,
   "id": "8530e53e",
   "metadata": {},
   "outputs": [],
   "source": [
    "#Test prediction"
   ]
  },
  {
   "cell_type": "code",
   "execution_count": 578,
   "id": "68f38a25",
   "metadata": {},
   "outputs": [],
   "source": [
    "X_test = [train_df[train_df['Номер скважины'] == i]['Дебит нефти'].iloc[-90:] for i in well_numbers]"
   ]
  },
  {
   "cell_type": "code",
   "execution_count": 579,
   "id": "4d82cc47",
   "metadata": {},
   "outputs": [],
   "source": [
    "results_df = []\n",
    "date_range = pd.date_range(start='1992-04-11', freq='1D', periods=90)\n",
    "for i in range(int(len(X_test))):\n",
    "    model = LGBMRegressor()\n",
    "    model.fit(np.array(y_train[i]).reshape(-1, 1), np.array(y_test[i]).reshape(-1, 1).ravel())\n",
    "    prediction_temp = model.predict(np.array(X_test[i]).reshape(-1, 1))\n",
    "    forecast_df = pd.DataFrame({'datetime': date_range, 'forecast': prediction_temp, 'Номер скважины':well_numbers[i]})\n",
    "    results_df.append(forecast_df)"
   ]
  },
  {
   "cell_type": "code",
   "execution_count": 580,
   "id": "82f15fc8",
   "metadata": {},
   "outputs": [],
   "source": [
    "#Save results"
   ]
  },
  {
   "cell_type": "code",
   "execution_count": 581,
   "id": "69e5a680",
   "metadata": {},
   "outputs": [],
   "source": [
    "solution_df = pd.concat(results_df)"
   ]
  },
  {
   "cell_type": "code",
   "execution_count": 582,
   "id": "9031cfc1",
   "metadata": {},
   "outputs": [
    {
     "name": "stdout",
     "output_type": "stream",
     "text": [
      "<class 'pandas.core.frame.DataFrame'>\n",
      "Int64Index: 9540 entries, 0 to 89\n",
      "Data columns (total 3 columns):\n",
      " #   Column          Non-Null Count  Dtype         \n",
      "---  ------          --------------  -----         \n",
      " 0   datetime        9540 non-null   datetime64[ns]\n",
      " 1   forecast        9540 non-null   float64       \n",
      " 2   Номер скважины  9540 non-null   int64         \n",
      "dtypes: datetime64[ns](1), float64(1), int64(1)\n",
      "memory usage: 298.1 KB\n"
     ]
    }
   ],
   "source": [
    "solution_df.info()"
   ]
  },
  {
   "cell_type": "code",
   "execution_count": 584,
   "id": "165d2c3d",
   "metadata": {},
   "outputs": [
    {
     "name": "stdout",
     "output_type": "stream",
     "text": [
      "Solution3.csv\n"
     ]
    }
   ],
   "source": [
    "solution_df.to_csv('Solution3.csv', index=False, encoding=\"utf-8\")\n",
    "print('Solution3.csv')"
   ]
  },
  {
   "cell_type": "code",
   "execution_count": null,
   "id": "f5e7e622",
   "metadata": {},
   "outputs": [],
   "source": []
  }
 ],
 "metadata": {
  "kernelspec": {
   "display_name": "Python 3 (ipykernel)",
   "language": "python",
   "name": "python3"
  },
  "language_info": {
   "codemirror_mode": {
    "name": "ipython",
    "version": 3
   },
   "file_extension": ".py",
   "mimetype": "text/x-python",
   "name": "python",
   "nbconvert_exporter": "python",
   "pygments_lexer": "ipython3",
   "version": "3.9.13"
  }
 },
 "nbformat": 4,
 "nbformat_minor": 5
}
